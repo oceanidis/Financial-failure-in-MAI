{
 "cells": [
  {
   "cell_type": "markdown",
   "metadata": {},
   "source": [
    "# Import Module\n"
   ]
  },
  {
   "cell_type": "code",
   "execution_count": 10,
   "metadata": {},
   "outputs": [],
   "source": [
    "import pandas as pd\n",
    "from sklearn.model_selection import train_test_split"
   ]
  },
  {
   "cell_type": "markdown",
   "metadata": {},
   "source": [
    "# import Data"
   ]
  },
  {
   "cell_type": "code",
   "execution_count": 3,
   "metadata": {},
   "outputs": [],
   "source": [
    "Fun = pd.read_csv('2019_2021.csv')\n",
    "Fun_column =['Total Asset', 'Total Liabilities', 'Paid-up Cap', 'Equity',\n",
    "       'Revenue', 'Expenses', 'EBITDA', 'EBIT', 'Net Profit', 'EPS',\n",
    "       'Operating Cash Flow', 'Investing Cash Flow', 'Financing Cash Flow',\n",
    "       'Net Cash Flow', 'Return on Equity', 'Return on Asset',\n",
    "       'Gross Profit Margin', 'Net Profit Margin', 'EBIT Margin', 'D/E',\n",
    "       'Int. Coverage', 'Current Ratio', 'Quick Ratio', 'Fixed Asset',\n",
    "       'Total Asset.1', 'Inventory Turnover', 'Average Sale Period',\n",
    "       'Accounts Receivable Turnover', 'Average Collection Period',\n",
    "       'Account Payable Turnover', 'Average Payment Period', 'Cash Cycle']\n",
    "Fun_column_for_X =   ['Total Asset', 'Total Liabilities', 'Paid-up Cap', 'Equity',\n",
    "       'Revenue', 'Expenses', 'EBITDA', 'EBIT', 'EPS',\n",
    "       'Operating Cash Flow', 'Investing Cash Flow', 'Financing Cash Flow',\n",
    "       'Net Cash Flow', 'Return on Equity', 'Return on Asset',\n",
    "       'Gross Profit Margin', 'EBIT Margin', 'D/E',\n",
    "       'Int. Coverage', 'Current Ratio', 'Quick Ratio', 'Fixed Asset',\n",
    "       'Total Asset.1', 'Inventory Turnover', 'Average Sale Period',\n",
    "       'Accounts Receivable Turnover', 'Average Collection Period',\n",
    "       'Account Payable Turnover', 'Average Payment Period', 'Cash Cycle']"
   ]
  },
  {
   "cell_type": "markdown",
   "metadata": {},
   "source": [
    "# Cleansing data"
   ]
  },
  {
   "cell_type": "code",
   "execution_count": 6,
   "metadata": {},
   "outputs": [],
   "source": [
    "mask = Fun.applymap(lambda x: x in ['-', 'N/A'])\n",
    "Fun = Fun[~mask.all(axis=1)]\n",
    "Fun = Fun.dropna()\n",
    "Fun = Fun[Fun_column].applymap(convert_to_float)\n",
    "Fun['Net Profit'] = Fun['Net Profit'].apply(transform_net_profit)\n",
    "Fun = Fun.rename(columns={'Net Profit': 'result'})"
   ]
  },
  {
   "cell_type": "code",
   "execution_count": 12,
   "metadata": {},
   "outputs": [],
   "source": [
    "X = Fun[Fun_column_for_X]\n",
    "y = Fun.result"
   ]
  },
  {
   "cell_type": "markdown",
   "metadata": {},
   "source": [
    "# Split data"
   ]
  },
  {
   "cell_type": "code",
   "execution_count": 13,
   "metadata": {},
   "outputs": [],
   "source": [
    "X_train, X_test, y_train, y_test = train_test_split(X, y, test_size=0.3, random_state=42) # 70% training and 30% test"
   ]
  },
  {
   "cell_type": "markdown",
   "metadata": {},
   "source": [
    "# สร้างไฟล์ สำหรับนำไปใช้ในโปรแกรมสำเร็จรูป"
   ]
  },
  {
   "cell_type": "code",
   "execution_count": null,
   "metadata": {},
   "outputs": [],
   "source": [
    "# สร้างไฟล์แยก\n",
    "Train_file = X_train.merge(y_train, left_index=True, right_index=True)\n",
    "Test_file = X_test.merge(y_test, left_index=True, right_index=True)\n",
    "Train_file.to_csv('Train_file.csv')\n",
    "Test_file.to_csv('Test_file.csv')"
   ]
  },
  {
   "cell_type": "markdown",
   "metadata": {},
   "source": [
    "# สร้าง Function"
   ]
  },
  {
   "cell_type": "code",
   "execution_count": 5,
   "metadata": {},
   "outputs": [],
   "source": [
    "def convert_to_float(value):\n",
    "    if isinstance(value, str):  # ตรวจสอบว่าเป็น string\n",
    "        if value == '-':\n",
    "            return 0\n",
    "        else:\n",
    "            value = value.replace(',', '')\n",
    "            return float(value)\n",
    "    else:\n",
    "        return value  # ไม่ทำอะไรเลยถ้าไม่ใช่ string\n",
    "    \n",
    "def transform_net_profit(value):\n",
    "    if value < 0:\n",
    "        return 0\n",
    "    else:\n",
    "        return 1\n"
   ]
  }
 ],
 "metadata": {
  "kernelspec": {
   "display_name": "Python 3",
   "language": "python",
   "name": "python3"
  },
  "language_info": {
   "codemirror_mode": {
    "name": "ipython",
    "version": 3
   },
   "file_extension": ".py",
   "mimetype": "text/x-python",
   "name": "python",
   "nbconvert_exporter": "python",
   "pygments_lexer": "ipython3",
   "version": "3.11.5"
  }
 },
 "nbformat": 4,
 "nbformat_minor": 2
}
